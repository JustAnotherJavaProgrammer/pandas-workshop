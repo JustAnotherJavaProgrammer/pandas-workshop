{
 "cells": [
  {
   "cell_type": "markdown",
   "id": "770a499f-fa07-4ca0-8ddd-c50e76eb0599",
   "metadata": {
    "tags": []
   },
   "source": [
    "# Workbook\n",
    "\n",
    "Use this notebook to complete the exercises throughout the workshop.\n",
    "\n",
    "#### Table of Contents\n",
    "- [Section 1 &ndash; Getting Started with Pandas](#Section-1)\n",
    "- [Section 2 &ndash; Data Wrangling](#Section-2)\n",
    "- [Section 3 &ndash; Data Visualization](#Section-3)\n",
    "\n",
    "--- \n",
    "\n",
    "### Section 1\n",
    "\n",
    "#### Exercise 1.1\n",
    "##### Create a DataFrame by reading in the `2019_Yellow_Taxi_Trip_Data.csv` file. Examine the first 5 rows."
   ]
  },
  {
   "cell_type": "code",
   "execution_count": 5,
   "id": "aa449dc1-4c0b-47ce-bba7-061568590d97",
   "metadata": {},
   "outputs": [
    {
     "data": {
      "text/html": [
       "<div>\n",
       "<style scoped>\n",
       "    .dataframe tbody tr th:only-of-type {\n",
       "        vertical-align: middle;\n",
       "    }\n",
       "\n",
       "    .dataframe tbody tr th {\n",
       "        vertical-align: top;\n",
       "    }\n",
       "\n",
       "    .dataframe thead th {\n",
       "        text-align: right;\n",
       "    }\n",
       "</style>\n",
       "<table border=\"1\" class=\"dataframe\">\n",
       "  <thead>\n",
       "    <tr style=\"text-align: right;\">\n",
       "      <th></th>\n",
       "      <th>vendorid</th>\n",
       "      <th>tpep_pickup_datetime</th>\n",
       "      <th>tpep_dropoff_datetime</th>\n",
       "      <th>passenger_count</th>\n",
       "      <th>trip_distance</th>\n",
       "      <th>ratecodeid</th>\n",
       "      <th>store_and_fwd_flag</th>\n",
       "      <th>pulocationid</th>\n",
       "      <th>dolocationid</th>\n",
       "      <th>payment_type</th>\n",
       "      <th>fare_amount</th>\n",
       "      <th>extra</th>\n",
       "      <th>mta_tax</th>\n",
       "      <th>tip_amount</th>\n",
       "      <th>tolls_amount</th>\n",
       "      <th>improvement_surcharge</th>\n",
       "      <th>total_amount</th>\n",
       "      <th>congestion_surcharge</th>\n",
       "    </tr>\n",
       "  </thead>\n",
       "  <tbody>\n",
       "    <tr>\n",
       "      <th>0</th>\n",
       "      <td>2</td>\n",
       "      <td>2019-10-23T16:39:42.000</td>\n",
       "      <td>2019-10-23T17:14:10.000</td>\n",
       "      <td>1</td>\n",
       "      <td>7.93</td>\n",
       "      <td>1</td>\n",
       "      <td>N</td>\n",
       "      <td>138</td>\n",
       "      <td>170</td>\n",
       "      <td>1</td>\n",
       "      <td>29.5</td>\n",
       "      <td>1.0</td>\n",
       "      <td>0.5</td>\n",
       "      <td>7.98</td>\n",
       "      <td>6.12</td>\n",
       "      <td>0.3</td>\n",
       "      <td>47.90</td>\n",
       "      <td>2.5</td>\n",
       "    </tr>\n",
       "    <tr>\n",
       "      <th>1</th>\n",
       "      <td>1</td>\n",
       "      <td>2019-10-23T16:32:08.000</td>\n",
       "      <td>2019-10-23T16:45:26.000</td>\n",
       "      <td>1</td>\n",
       "      <td>2.00</td>\n",
       "      <td>1</td>\n",
       "      <td>N</td>\n",
       "      <td>11</td>\n",
       "      <td>26</td>\n",
       "      <td>1</td>\n",
       "      <td>10.5</td>\n",
       "      <td>1.0</td>\n",
       "      <td>0.5</td>\n",
       "      <td>0.00</td>\n",
       "      <td>0.00</td>\n",
       "      <td>0.3</td>\n",
       "      <td>12.30</td>\n",
       "      <td>0.0</td>\n",
       "    </tr>\n",
       "    <tr>\n",
       "      <th>2</th>\n",
       "      <td>2</td>\n",
       "      <td>2019-10-23T16:08:44.000</td>\n",
       "      <td>2019-10-23T16:21:11.000</td>\n",
       "      <td>1</td>\n",
       "      <td>1.36</td>\n",
       "      <td>1</td>\n",
       "      <td>N</td>\n",
       "      <td>163</td>\n",
       "      <td>162</td>\n",
       "      <td>1</td>\n",
       "      <td>9.5</td>\n",
       "      <td>1.0</td>\n",
       "      <td>0.5</td>\n",
       "      <td>2.00</td>\n",
       "      <td>0.00</td>\n",
       "      <td>0.3</td>\n",
       "      <td>15.80</td>\n",
       "      <td>2.5</td>\n",
       "    </tr>\n",
       "    <tr>\n",
       "      <th>3</th>\n",
       "      <td>2</td>\n",
       "      <td>2019-10-23T16:22:44.000</td>\n",
       "      <td>2019-10-23T16:43:26.000</td>\n",
       "      <td>1</td>\n",
       "      <td>1.00</td>\n",
       "      <td>1</td>\n",
       "      <td>N</td>\n",
       "      <td>170</td>\n",
       "      <td>163</td>\n",
       "      <td>1</td>\n",
       "      <td>13.0</td>\n",
       "      <td>1.0</td>\n",
       "      <td>0.5</td>\n",
       "      <td>4.32</td>\n",
       "      <td>0.00</td>\n",
       "      <td>0.3</td>\n",
       "      <td>21.62</td>\n",
       "      <td>2.5</td>\n",
       "    </tr>\n",
       "    <tr>\n",
       "      <th>4</th>\n",
       "      <td>2</td>\n",
       "      <td>2019-10-23T16:45:11.000</td>\n",
       "      <td>2019-10-23T16:58:49.000</td>\n",
       "      <td>1</td>\n",
       "      <td>1.96</td>\n",
       "      <td>1</td>\n",
       "      <td>N</td>\n",
       "      <td>163</td>\n",
       "      <td>236</td>\n",
       "      <td>1</td>\n",
       "      <td>10.5</td>\n",
       "      <td>1.0</td>\n",
       "      <td>0.5</td>\n",
       "      <td>0.50</td>\n",
       "      <td>0.00</td>\n",
       "      <td>0.3</td>\n",
       "      <td>15.30</td>\n",
       "      <td>2.5</td>\n",
       "    </tr>\n",
       "  </tbody>\n",
       "</table>\n",
       "</div>"
      ],
      "text/plain": [
       "   vendorid     tpep_pickup_datetime    tpep_dropoff_datetime  \\\n",
       "0         2  2019-10-23T16:39:42.000  2019-10-23T17:14:10.000   \n",
       "1         1  2019-10-23T16:32:08.000  2019-10-23T16:45:26.000   \n",
       "2         2  2019-10-23T16:08:44.000  2019-10-23T16:21:11.000   \n",
       "3         2  2019-10-23T16:22:44.000  2019-10-23T16:43:26.000   \n",
       "4         2  2019-10-23T16:45:11.000  2019-10-23T16:58:49.000   \n",
       "\n",
       "   passenger_count  trip_distance  ratecodeid store_and_fwd_flag  \\\n",
       "0                1           7.93           1                  N   \n",
       "1                1           2.00           1                  N   \n",
       "2                1           1.36           1                  N   \n",
       "3                1           1.00           1                  N   \n",
       "4                1           1.96           1                  N   \n",
       "\n",
       "   pulocationid  dolocationid  payment_type  fare_amount  extra  mta_tax  \\\n",
       "0           138           170             1         29.5    1.0      0.5   \n",
       "1            11            26             1         10.5    1.0      0.5   \n",
       "2           163           162             1          9.5    1.0      0.5   \n",
       "3           170           163             1         13.0    1.0      0.5   \n",
       "4           163           236             1         10.5    1.0      0.5   \n",
       "\n",
       "   tip_amount  tolls_amount  improvement_surcharge  total_amount  \\\n",
       "0        7.98          6.12                    0.3         47.90   \n",
       "1        0.00          0.00                    0.3         12.30   \n",
       "2        2.00          0.00                    0.3         15.80   \n",
       "3        4.32          0.00                    0.3         21.62   \n",
       "4        0.50          0.00                    0.3         15.30   \n",
       "\n",
       "   congestion_surcharge  \n",
       "0                   2.5  \n",
       "1                   0.0  \n",
       "2                   2.5  \n",
       "3                   2.5  \n",
       "4                   2.5  "
      ]
     },
     "execution_count": 5,
     "metadata": {},
     "output_type": "execute_result"
    }
   ],
   "source": [
    "import pandas as pd\n",
    "\n",
    "taxi_data = pd.read_csv('../data/2019_Yellow_Taxi_Trip_Data.csv')\n",
    "taxi_data.head(5)"
   ]
  },
  {
   "cell_type": "markdown",
   "id": "4d52808c-cb6b-4a2b-a183-5c886bbe6b85",
   "metadata": {},
   "source": [
    "#### Exercise 1.2\n",
    "##### Find the dimensions (number of rows and number of columns) in the data."
   ]
  },
  {
   "cell_type": "code",
   "execution_count": 6,
   "id": "f4e7275f-4009-4cc9-911d-da92efb79fdd",
   "metadata": {},
   "outputs": [
    {
     "data": {
      "text/plain": [
       "(10000, 18)"
      ]
     },
     "execution_count": 6,
     "metadata": {},
     "output_type": "execute_result"
    }
   ],
   "source": [
    "taxi_data.shape"
   ]
  },
  {
   "cell_type": "markdown",
   "id": "b4e9aa37-a244-4e4c-8caa-9d13ca8c7f71",
   "metadata": {
    "tags": []
   },
   "source": [
    "#### Exercise 1.3\n",
    "##### Using the data in the `2019_Yellow_Taxi_Trip_Data.csv` file, calculate summary statistics for the `fare_amount`, `tip_amount`, `tolls_amount`, and `total_amount` columns."
   ]
  },
  {
   "cell_type": "code",
   "execution_count": 13,
   "id": "8577fc58-fd5f-412b-aa2e-50c541c5778b",
   "metadata": {},
   "outputs": [
    {
     "data": {
      "text/plain": [
       "np.float64(15.106313)"
      ]
     },
     "execution_count": 13,
     "metadata": {},
     "output_type": "execute_result"
    }
   ],
   "source": [
    "taxi_data['fare_amount'].mean()"
   ]
  },
  {
   "cell_type": "code",
   "execution_count": 14,
   "id": "dba9ebdb-96d6-4801-b921-ed10ee3ccd69",
   "metadata": {},
   "outputs": [
    {
     "data": {
      "text/plain": [
       "np.float64(10.0)"
      ]
     },
     "execution_count": 14,
     "metadata": {},
     "output_type": "execute_result"
    }
   ],
   "source": [
    "taxi_data['fare_amount'].median()"
   ]
  },
  {
   "cell_type": "code",
   "execution_count": 15,
   "id": "39073a16-c9f2-46d0-8858-00f8c44c937a",
   "metadata": {},
   "outputs": [
    {
     "data": {
      "text/plain": [
       "np.float64(176.0)"
      ]
     },
     "execution_count": 15,
     "metadata": {},
     "output_type": "execute_result"
    }
   ],
   "source": [
    "taxi_data['fare_amount'].max()"
   ]
  },
  {
   "cell_type": "code",
   "execution_count": 16,
   "id": "798ad86b-5300-40cd-8799-e50254805814",
   "metadata": {},
   "outputs": [
    {
     "data": {
      "text/plain": [
       "np.float64(-52.0)"
      ]
     },
     "execution_count": 16,
     "metadata": {},
     "output_type": "execute_result"
    }
   ],
   "source": [
    "taxi_data['fare_amount'].min()"
   ]
  },
  {
   "cell_type": "code",
   "execution_count": 17,
   "id": "da5f3e8b-344a-4b62-a34c-edf610856a19",
   "metadata": {},
   "outputs": [
    {
     "data": {
      "text/plain": [
       "np.float64(2.6344939999999997)"
      ]
     },
     "execution_count": 17,
     "metadata": {},
     "output_type": "execute_result"
    }
   ],
   "source": [
    "taxi_data['tip_amount'].mean()"
   ]
  },
  {
   "cell_type": "code",
   "execution_count": 18,
   "id": "98096460-54f4-4ec2-8078-b7c02893b5dd",
   "metadata": {},
   "outputs": [
    {
     "data": {
      "text/plain": [
       "np.float64(2.0)"
      ]
     },
     "execution_count": 18,
     "metadata": {},
     "output_type": "execute_result"
    }
   ],
   "source": [
    "taxi_data['tip_amount'].median()"
   ]
  },
  {
   "cell_type": "code",
   "execution_count": 19,
   "id": "60c71f51-3a54-4550-9c2e-c0211ecd68ec",
   "metadata": {},
   "outputs": [
    {
     "data": {
      "text/plain": [
       "np.float64(43.0)"
      ]
     },
     "execution_count": 19,
     "metadata": {},
     "output_type": "execute_result"
    }
   ],
   "source": [
    "taxi_data['tip_amount'].max()"
   ]
  },
  {
   "cell_type": "code",
   "execution_count": 20,
   "id": "67de475e-7b02-41a7-81bc-9b0b34de61af",
   "metadata": {},
   "outputs": [
    {
     "data": {
      "text/plain": [
       "np.float64(0.0)"
      ]
     },
     "execution_count": 20,
     "metadata": {},
     "output_type": "execute_result"
    }
   ],
   "source": [
    "taxi_data['tip_amount'].min()"
   ]
  },
  {
   "cell_type": "code",
   "execution_count": 21,
   "id": "dde1aef7-785d-42a4-a85c-210398a4942f",
   "metadata": {},
   "outputs": [
    {
     "data": {
      "text/plain": [
       "np.float64(0.623447)"
      ]
     },
     "execution_count": 21,
     "metadata": {},
     "output_type": "execute_result"
    }
   ],
   "source": [
    "taxi_data['tolls_amount'].mean()"
   ]
  },
  {
   "cell_type": "code",
   "execution_count": 22,
   "id": "f86f5d5d-ed78-4cdc-aabb-a98947db7a10",
   "metadata": {},
   "outputs": [
    {
     "data": {
      "text/plain": [
       "np.float64(0.623447)"
      ]
     },
     "execution_count": 22,
     "metadata": {},
     "output_type": "execute_result"
    }
   ],
   "source": [
    "taxi_data['tolls_amount'].median()"
   ]
  },
  {
   "cell_type": "code",
   "execution_count": 23,
   "id": "1e65709d-7fbc-4fb1-8136-73339ecb2bb1",
   "metadata": {},
   "outputs": [
    {
     "data": {
      "text/plain": [
       "np.float64(-6.12)"
      ]
     },
     "execution_count": 23,
     "metadata": {},
     "output_type": "execute_result"
    }
   ],
   "source": [
    "taxi_data['tolls_amount'].min()"
   ]
  },
  {
   "cell_type": "code",
   "execution_count": 24,
   "id": "97360498-81c9-42d2-91e9-be654e4ece0d",
   "metadata": {},
   "outputs": [
    {
     "data": {
      "text/plain": [
       "np.float64(612.0)"
      ]
     },
     "execution_count": 24,
     "metadata": {},
     "output_type": "execute_result"
    }
   ],
   "source": [
    "taxi_data['tolls_amount'].max()"
   ]
  },
  {
   "cell_type": "code",
   "execution_count": 25,
   "id": "e6d16af7-83ae-4272-a8f9-2163760a85fc",
   "metadata": {},
   "outputs": [
    {
     "data": {
      "text/plain": [
       "np.float64(16.3)"
      ]
     },
     "execution_count": 25,
     "metadata": {},
     "output_type": "execute_result"
    }
   ],
   "source": [
    "taxi_data['total_amount'].mean()"
   ]
  },
  {
   "cell_type": "code",
   "execution_count": 26,
   "id": "9f6bd05b-798c-4fd7-99ec-9da9a6367b2f",
   "metadata": {},
   "outputs": [
    {
     "data": {
      "text/plain": [
       "np.float64(16.3)"
      ]
     },
     "execution_count": 26,
     "metadata": {},
     "output_type": "execute_result"
    }
   ],
   "source": [
    "taxi_data['total_amount'].median()"
   ]
  },
  {
   "cell_type": "code",
   "execution_count": 27,
   "id": "ac1c6df3-737a-46f8-968e-287fd30397e5",
   "metadata": {},
   "outputs": [
    {
     "data": {
      "text/plain": [
       "np.float64(-65.92)"
      ]
     },
     "execution_count": 27,
     "metadata": {},
     "output_type": "execute_result"
    }
   ],
   "source": [
    "taxi_data['total_amount'].min()"
   ]
  },
  {
   "cell_type": "code",
   "execution_count": 28,
   "id": "4e94480a-a441-48c4-8ffd-0e727615ccbe",
   "metadata": {},
   "outputs": [
    {
     "data": {
      "text/plain": [
       "np.float64(671.8)"
      ]
     },
     "execution_count": 28,
     "metadata": {},
     "output_type": "execute_result"
    }
   ],
   "source": [
    "taxi_data['total_amount'].max()"
   ]
  },
  {
   "cell_type": "markdown",
   "id": "4fbf547b-a273-4327-b17a-2c10a58b96bc",
   "metadata": {
    "tags": []
   },
   "source": [
    "#### Exercise 1.4\n",
    "##### Isolate the `fare_amount`, `tip_amount`, `tolls_amount`, and `total_amount` for the longest trip by distance (`trip_distance`)."
   ]
  },
  {
   "cell_type": "code",
   "execution_count": 40,
   "id": "dc75ecfc-19b5-438b-b078-eaf7cfc3e7f3",
   "metadata": {},
   "outputs": [
    {
     "data": {
      "text/plain": [
       "fare_amount      176.0\n",
       "tip_amount       18.29\n",
       "tolls_amount      6.12\n",
       "total_amount    201.21\n",
       "Name: 8338, dtype: object"
      ]
     },
     "execution_count": 40,
     "metadata": {},
     "output_type": "execute_result"
    }
   ],
   "source": [
    "taxi_data.loc[taxi_data['trip_distance'].idxmax()][['fare_amount','tip_amount','tolls_amount','total_amount']]"
   ]
  },
  {
   "cell_type": "markdown",
   "id": "b9aaeed4-127a-412b-93f6-b179e4ba85f0",
   "metadata": {},
   "source": [
    "---\n",
    "\n",
    "### Section 2\n",
    "\n",
    "#### Exercise 2.1\n",
    "##### Read in the meteorite data from the `Meteorite_Landings.csv` file, rename the `mass (g)` column to `mass`, and drop all the latitude and longitude columns. Sort the result by mass in descending order."
   ]
  },
  {
   "cell_type": "code",
   "execution_count": 77,
   "id": "ada49a08-cda7-42ee-ade9-8bb2a2c5a9b8",
   "metadata": {},
   "outputs": [
    {
     "data": {
      "text/html": [
       "<div>\n",
       "<style scoped>\n",
       "    .dataframe tbody tr th:only-of-type {\n",
       "        vertical-align: middle;\n",
       "    }\n",
       "\n",
       "    .dataframe tbody tr th {\n",
       "        vertical-align: top;\n",
       "    }\n",
       "\n",
       "    .dataframe thead th {\n",
       "        text-align: right;\n",
       "    }\n",
       "</style>\n",
       "<table border=\"1\" class=\"dataframe\">\n",
       "  <thead>\n",
       "    <tr style=\"text-align: right;\">\n",
       "      <th></th>\n",
       "      <th>name</th>\n",
       "      <th>id</th>\n",
       "      <th>nametype</th>\n",
       "      <th>recclass</th>\n",
       "      <th>mass</th>\n",
       "      <th>fall</th>\n",
       "      <th>year</th>\n",
       "      <th>reclat</th>\n",
       "      <th>reclong</th>\n",
       "      <th>GeoLocation</th>\n",
       "    </tr>\n",
       "  </thead>\n",
       "  <tbody>\n",
       "    <tr>\n",
       "      <th>16392</th>\n",
       "      <td>Hoba</td>\n",
       "      <td>11890</td>\n",
       "      <td>Valid</td>\n",
       "      <td>Iron, IVB</td>\n",
       "      <td>60000000.0</td>\n",
       "      <td>Found</td>\n",
       "      <td>01/01/1920 12:00:00 AM</td>\n",
       "      <td>-19.58333</td>\n",
       "      <td>17.91667</td>\n",
       "      <td>(-19.58333, 17.91667)</td>\n",
       "    </tr>\n",
       "    <tr>\n",
       "      <th>5373</th>\n",
       "      <td>Cape York</td>\n",
       "      <td>5262</td>\n",
       "      <td>Valid</td>\n",
       "      <td>Iron, IIIAB</td>\n",
       "      <td>58200000.0</td>\n",
       "      <td>Found</td>\n",
       "      <td>01/01/1818 12:00:00 AM</td>\n",
       "      <td>76.13333</td>\n",
       "      <td>-64.93333</td>\n",
       "      <td>(76.13333, -64.93333)</td>\n",
       "    </tr>\n",
       "    <tr>\n",
       "      <th>5365</th>\n",
       "      <td>Campo del Cielo</td>\n",
       "      <td>5247</td>\n",
       "      <td>Valid</td>\n",
       "      <td>Iron, IAB-MG</td>\n",
       "      <td>50000000.0</td>\n",
       "      <td>Found</td>\n",
       "      <td>12/22/1575 12:00:00 AM</td>\n",
       "      <td>-27.46667</td>\n",
       "      <td>-60.58333</td>\n",
       "      <td>(-27.46667, -60.58333)</td>\n",
       "    </tr>\n",
       "    <tr>\n",
       "      <th>5370</th>\n",
       "      <td>Canyon Diablo</td>\n",
       "      <td>5257</td>\n",
       "      <td>Valid</td>\n",
       "      <td>Iron, IAB-MG</td>\n",
       "      <td>30000000.0</td>\n",
       "      <td>Found</td>\n",
       "      <td>01/01/1891 12:00:00 AM</td>\n",
       "      <td>35.05000</td>\n",
       "      <td>-111.03333</td>\n",
       "      <td>(35.05, -111.03333)</td>\n",
       "    </tr>\n",
       "    <tr>\n",
       "      <th>3455</th>\n",
       "      <td>Armanty</td>\n",
       "      <td>2335</td>\n",
       "      <td>Valid</td>\n",
       "      <td>Iron, IIIE</td>\n",
       "      <td>28000000.0</td>\n",
       "      <td>Found</td>\n",
       "      <td>01/01/1898 12:00:00 AM</td>\n",
       "      <td>47.00000</td>\n",
       "      <td>88.00000</td>\n",
       "      <td>(47.0, 88.0)</td>\n",
       "    </tr>\n",
       "    <tr>\n",
       "      <th>...</th>\n",
       "      <td>...</td>\n",
       "      <td>...</td>\n",
       "      <td>...</td>\n",
       "      <td>...</td>\n",
       "      <td>...</td>\n",
       "      <td>...</td>\n",
       "      <td>...</td>\n",
       "      <td>...</td>\n",
       "      <td>...</td>\n",
       "      <td>...</td>\n",
       "    </tr>\n",
       "    <tr>\n",
       "      <th>38282</th>\n",
       "      <td>Wei-hui-fu (a)</td>\n",
       "      <td>24231</td>\n",
       "      <td>Valid</td>\n",
       "      <td>Iron</td>\n",
       "      <td>NaN</td>\n",
       "      <td>Found</td>\n",
       "      <td>01/01/1931 12:00:00 AM</td>\n",
       "      <td>NaN</td>\n",
       "      <td>NaN</td>\n",
       "      <td>NaN</td>\n",
       "    </tr>\n",
       "    <tr>\n",
       "      <th>38283</th>\n",
       "      <td>Wei-hui-fu (b)</td>\n",
       "      <td>24232</td>\n",
       "      <td>Valid</td>\n",
       "      <td>Iron</td>\n",
       "      <td>NaN</td>\n",
       "      <td>Found</td>\n",
       "      <td>01/01/1931 12:00:00 AM</td>\n",
       "      <td>NaN</td>\n",
       "      <td>NaN</td>\n",
       "      <td>NaN</td>\n",
       "    </tr>\n",
       "    <tr>\n",
       "      <th>38285</th>\n",
       "      <td>Weiyuan</td>\n",
       "      <td>24233</td>\n",
       "      <td>Valid</td>\n",
       "      <td>Mesosiderite</td>\n",
       "      <td>NaN</td>\n",
       "      <td>Found</td>\n",
       "      <td>01/01/1978 12:00:00 AM</td>\n",
       "      <td>35.26667</td>\n",
       "      <td>104.31667</td>\n",
       "      <td>(35.26667, 104.31667)</td>\n",
       "    </tr>\n",
       "    <tr>\n",
       "      <th>41472</th>\n",
       "      <td>Yamato 792768</td>\n",
       "      <td>28117</td>\n",
       "      <td>Valid</td>\n",
       "      <td>CM2</td>\n",
       "      <td>NaN</td>\n",
       "      <td>Found</td>\n",
       "      <td>01/01/1979 12:00:00 AM</td>\n",
       "      <td>-71.50000</td>\n",
       "      <td>35.66667</td>\n",
       "      <td>(-71.5, 35.66667)</td>\n",
       "    </tr>\n",
       "    <tr>\n",
       "      <th>45698</th>\n",
       "      <td>Zapata County</td>\n",
       "      <td>30393</td>\n",
       "      <td>Valid</td>\n",
       "      <td>Iron</td>\n",
       "      <td>NaN</td>\n",
       "      <td>Found</td>\n",
       "      <td>01/01/1930 12:00:00 AM</td>\n",
       "      <td>27.00000</td>\n",
       "      <td>-99.00000</td>\n",
       "      <td>(27.0, -99.0)</td>\n",
       "    </tr>\n",
       "  </tbody>\n",
       "</table>\n",
       "<p>45716 rows × 10 columns</p>\n",
       "</div>"
      ],
      "text/plain": [
       "                  name     id nametype      recclass        mass   fall  \\\n",
       "16392             Hoba  11890    Valid     Iron, IVB  60000000.0  Found   \n",
       "5373         Cape York   5262    Valid   Iron, IIIAB  58200000.0  Found   \n",
       "5365   Campo del Cielo   5247    Valid  Iron, IAB-MG  50000000.0  Found   \n",
       "5370     Canyon Diablo   5257    Valid  Iron, IAB-MG  30000000.0  Found   \n",
       "3455           Armanty   2335    Valid    Iron, IIIE  28000000.0  Found   \n",
       "...                ...    ...      ...           ...         ...    ...   \n",
       "38282   Wei-hui-fu (a)  24231    Valid          Iron         NaN  Found   \n",
       "38283   Wei-hui-fu (b)  24232    Valid          Iron         NaN  Found   \n",
       "38285          Weiyuan  24233    Valid  Mesosiderite         NaN  Found   \n",
       "41472    Yamato 792768  28117    Valid           CM2         NaN  Found   \n",
       "45698    Zapata County  30393    Valid          Iron         NaN  Found   \n",
       "\n",
       "                         year    reclat    reclong             GeoLocation  \n",
       "16392  01/01/1920 12:00:00 AM -19.58333   17.91667   (-19.58333, 17.91667)  \n",
       "5373   01/01/1818 12:00:00 AM  76.13333  -64.93333   (76.13333, -64.93333)  \n",
       "5365   12/22/1575 12:00:00 AM -27.46667  -60.58333  (-27.46667, -60.58333)  \n",
       "5370   01/01/1891 12:00:00 AM  35.05000 -111.03333     (35.05, -111.03333)  \n",
       "3455   01/01/1898 12:00:00 AM  47.00000   88.00000            (47.0, 88.0)  \n",
       "...                       ...       ...        ...                     ...  \n",
       "38282  01/01/1931 12:00:00 AM       NaN        NaN                     NaN  \n",
       "38283  01/01/1931 12:00:00 AM       NaN        NaN                     NaN  \n",
       "38285  01/01/1978 12:00:00 AM  35.26667  104.31667   (35.26667, 104.31667)  \n",
       "41472  01/01/1979 12:00:00 AM -71.50000   35.66667       (-71.5, 35.66667)  \n",
       "45698  01/01/1930 12:00:00 AM  27.00000  -99.00000           (27.0, -99.0)  \n",
       "\n",
       "[45716 rows x 10 columns]"
      ]
     },
     "execution_count": 77,
     "metadata": {},
     "output_type": "execute_result"
    }
   ],
   "source": [
    "meteorites = pd.read_csv('../data/Meteorite_Landings.csv')\n",
    "meteorites = meteorites.rename(\n",
    "    columns={\n",
    "        'mass (g)': 'mass'\n",
    "    }\n",
    ")\n",
    "\n",
    "mask = meteorites.columns.str.contains('lat$|long$', regex=True)\n",
    "columns_to_drop = meteorites.columns[mask]\n",
    "\n",
    "meteorites.drop(columns = columns_to_drop)\n",
    "\n",
    "meteorites.sort_values(['mass'], ascending=False)"
   ]
  },
  {
   "cell_type": "markdown",
   "id": "6994b42d-8205-4584-84a0-b3a7fa56c9b1",
   "metadata": {},
   "source": [
    "#### Exercise 2.2\n",
    "##### Using the meteorite data from the `Meteorite_Landings.csv` file, update the `year` column to only contain the year, convert it to a numeric data type, and create a new column indicating whether the meteorite was observed falling before 1970. Set the index to the `id` column and extract all the rows with IDs between 10,036 and 10,040 (inclusive) with `loc[]`.\n",
    "\n",
    "###### **Hint 1**: Use `year.str.slice()` to grab a substring.\n",
    "\n",
    "###### **Hint 2**: Make sure to sort the index before using `loc[]` to select the range.\n",
    "\n",
    "###### **Bonus**: There's a data entry error in the `year` column. Can you find it? (Don't spend too much time on this.)"
   ]
  },
  {
   "cell_type": "code",
   "execution_count": 78,
   "id": "02605233-73c5-4cd9-8134-b38ab749e8df",
   "metadata": {},
   "outputs": [
    {
     "data": {
      "text/html": [
       "<div>\n",
       "<style scoped>\n",
       "    .dataframe tbody tr th:only-of-type {\n",
       "        vertical-align: middle;\n",
       "    }\n",
       "\n",
       "    .dataframe tbody tr th {\n",
       "        vertical-align: top;\n",
       "    }\n",
       "\n",
       "    .dataframe thead th {\n",
       "        text-align: right;\n",
       "    }\n",
       "</style>\n",
       "<table border=\"1\" class=\"dataframe\">\n",
       "  <thead>\n",
       "    <tr style=\"text-align: right;\">\n",
       "      <th></th>\n",
       "      <th>name</th>\n",
       "      <th>nametype</th>\n",
       "      <th>recclass</th>\n",
       "      <th>mass</th>\n",
       "      <th>fall</th>\n",
       "      <th>year</th>\n",
       "      <th>reclat</th>\n",
       "      <th>reclong</th>\n",
       "      <th>GeoLocation</th>\n",
       "    </tr>\n",
       "    <tr>\n",
       "      <th>id</th>\n",
       "      <th></th>\n",
       "      <th></th>\n",
       "      <th></th>\n",
       "      <th></th>\n",
       "      <th></th>\n",
       "      <th></th>\n",
       "      <th></th>\n",
       "      <th></th>\n",
       "      <th></th>\n",
       "    </tr>\n",
       "  </thead>\n",
       "  <tbody>\n",
       "    <tr>\n",
       "      <th>10036</th>\n",
       "      <td>Enigma</td>\n",
       "      <td>Valid</td>\n",
       "      <td>H4</td>\n",
       "      <td>94.0</td>\n",
       "      <td>Found</td>\n",
       "      <td>1967.0</td>\n",
       "      <td>31.33333</td>\n",
       "      <td>-82.31667</td>\n",
       "      <td>(31.33333, -82.31667)</td>\n",
       "    </tr>\n",
       "    <tr>\n",
       "      <th>10037</th>\n",
       "      <td>Enon</td>\n",
       "      <td>Valid</td>\n",
       "      <td>Iron, ungrouped</td>\n",
       "      <td>763.0</td>\n",
       "      <td>Found</td>\n",
       "      <td>1883.0</td>\n",
       "      <td>39.86667</td>\n",
       "      <td>-83.95000</td>\n",
       "      <td>(39.86667, -83.95)</td>\n",
       "    </tr>\n",
       "    <tr>\n",
       "      <th>10038</th>\n",
       "      <td>Enshi</td>\n",
       "      <td>Valid</td>\n",
       "      <td>H5</td>\n",
       "      <td>8000.0</td>\n",
       "      <td>Fell</td>\n",
       "      <td>1974.0</td>\n",
       "      <td>30.30000</td>\n",
       "      <td>109.50000</td>\n",
       "      <td>(30.3, 109.5)</td>\n",
       "    </tr>\n",
       "    <tr>\n",
       "      <th>10039</th>\n",
       "      <td>Ensisheim</td>\n",
       "      <td>Valid</td>\n",
       "      <td>LL6</td>\n",
       "      <td>127000.0</td>\n",
       "      <td>Fell</td>\n",
       "      <td>1491.0</td>\n",
       "      <td>47.86667</td>\n",
       "      <td>7.35000</td>\n",
       "      <td>(47.86667, 7.35)</td>\n",
       "    </tr>\n",
       "  </tbody>\n",
       "</table>\n",
       "</div>"
      ],
      "text/plain": [
       "            name nametype         recclass      mass   fall    year    reclat  \\\n",
       "id                                                                              \n",
       "10036     Enigma    Valid               H4      94.0  Found  1967.0  31.33333   \n",
       "10037       Enon    Valid  Iron, ungrouped     763.0  Found  1883.0  39.86667   \n",
       "10038      Enshi    Valid               H5    8000.0   Fell  1974.0  30.30000   \n",
       "10039  Ensisheim    Valid              LL6  127000.0   Fell  1491.0  47.86667   \n",
       "\n",
       "         reclong            GeoLocation  \n",
       "id                                       \n",
       "10036  -82.31667  (31.33333, -82.31667)  \n",
       "10037  -83.95000     (39.86667, -83.95)  \n",
       "10038  109.50000          (30.3, 109.5)  \n",
       "10039    7.35000       (47.86667, 7.35)  "
      ]
     },
     "execution_count": 78,
     "metadata": {},
     "output_type": "execute_result"
    }
   ],
   "source": [
    "meteorites[['year']]=meteorites[['year']].apply(lambda year: (year.str.slice(start=6, stop=10))).apply(pd.to_numeric)\n",
    "meteorites = meteorites.set_index('id')\n",
    "meteorites = meteorites.sort_index()\n",
    "meteorites.loc[10036:10040]"
   ]
  },
  {
   "cell_type": "markdown",
   "id": "16d1f8ab-ad56-412d-8df7-a59252f282cf",
   "metadata": {},
   "source": [
    "#### Exercise 2.3\n",
    "##### Using the meteorite data from the `Meteorite_Landings.csv` file, create a pivot table that shows both the number of meteorites and the 95th percentile of meteorite mass for those that were found versus observed falling per year from 2005 through 2009 (inclusive). Hint: Be sure to convert the `year` column to a number as we did in the previous exercise."
   ]
  },
  {
   "cell_type": "code",
   "execution_count": 80,
   "id": "511433c4-5a9d-41a4-8050-0e953225da0e",
   "metadata": {},
   "outputs": [
    {
     "data": {
      "text/html": [
       "<div>\n",
       "<style scoped>\n",
       "    .dataframe tbody tr th:only-of-type {\n",
       "        vertical-align: middle;\n",
       "    }\n",
       "\n",
       "    .dataframe tbody tr th {\n",
       "        vertical-align: top;\n",
       "    }\n",
       "\n",
       "    .dataframe thead tr th {\n",
       "        text-align: left;\n",
       "    }\n",
       "\n",
       "    .dataframe thead tr:last-of-type th {\n",
       "        text-align: right;\n",
       "    }\n",
       "</style>\n",
       "<table border=\"1\" class=\"dataframe\">\n",
       "  <thead>\n",
       "    <tr>\n",
       "      <th></th>\n",
       "      <th colspan=\"2\" halign=\"left\">count</th>\n",
       "      <th colspan=\"2\" halign=\"left\">95th percentile</th>\n",
       "    </tr>\n",
       "    <tr>\n",
       "      <th>fall</th>\n",
       "      <th>Fell</th>\n",
       "      <th>Found</th>\n",
       "      <th>Fell</th>\n",
       "      <th>Found</th>\n",
       "    </tr>\n",
       "    <tr>\n",
       "      <th>year</th>\n",
       "      <th></th>\n",
       "      <th></th>\n",
       "      <th></th>\n",
       "      <th></th>\n",
       "    </tr>\n",
       "  </thead>\n",
       "  <tbody>\n",
       "    <tr>\n",
       "      <th>2005.0</th>\n",
       "      <td>NaN</td>\n",
       "      <td>874.0</td>\n",
       "      <td>NaN</td>\n",
       "      <td>4500.00</td>\n",
       "    </tr>\n",
       "    <tr>\n",
       "      <th>2006.0</th>\n",
       "      <td>5.0</td>\n",
       "      <td>2450.0</td>\n",
       "      <td>25008.0</td>\n",
       "      <td>1600.50</td>\n",
       "    </tr>\n",
       "    <tr>\n",
       "      <th>2007.0</th>\n",
       "      <td>8.0</td>\n",
       "      <td>1181.0</td>\n",
       "      <td>89675.0</td>\n",
       "      <td>1126.90</td>\n",
       "    </tr>\n",
       "    <tr>\n",
       "      <th>2008.0</th>\n",
       "      <td>9.0</td>\n",
       "      <td>948.0</td>\n",
       "      <td>106000.0</td>\n",
       "      <td>2274.80</td>\n",
       "    </tr>\n",
       "    <tr>\n",
       "      <th>2009.0</th>\n",
       "      <td>5.0</td>\n",
       "      <td>1492.0</td>\n",
       "      <td>8333.4</td>\n",
       "      <td>1397.25</td>\n",
       "    </tr>\n",
       "  </tbody>\n",
       "</table>\n",
       "</div>"
      ],
      "text/plain": [
       "       count         95th percentile         \n",
       "fall    Fell   Found            Fell    Found\n",
       "year                                         \n",
       "2005.0   NaN   874.0             NaN  4500.00\n",
       "2006.0   5.0  2450.0         25008.0  1600.50\n",
       "2007.0   8.0  1181.0         89675.0  1126.90\n",
       "2008.0   9.0   948.0        106000.0  2274.80\n",
       "2009.0   5.0  1492.0          8333.4  1397.25"
      ]
     },
     "execution_count": 80,
     "metadata": {},
     "output_type": "execute_result"
    }
   ],
   "source": [
    "meteorites = pd.read_csv('../data/Meteorite_Landings.csv')\n",
    "meteorites[['year']]=meteorites[['year']].apply(lambda year: (year.str.slice(start=6, stop=10))).apply(pd.to_numeric)\n",
    "meteorites.query('year.between(2005, 2009)').pivot_table(\n",
    "    index='year', columns='fall', values='mass (g)', \n",
    "    aggfunc=['count', lambda x: x.quantile(0.95)]\n",
    ").rename(columns={'<lambda>': '95th percentile'})"
   ]
  },
  {
   "cell_type": "markdown",
   "id": "4243c25b-6b5d-4fec-a818-3766be46c7a1",
   "metadata": {},
   "source": [
    "#### Exercise 2.4\n",
    "##### Using the meteorite data from the `Meteorite_Landings.csv` file, compare summary statistics of the mass column for the meteorites that were found versus observed falling."
   ]
  },
  {
   "cell_type": "code",
   "execution_count": 85,
   "id": "79aebbf8-1935-449f-94d8-aea0e1b67b4b",
   "metadata": {},
   "outputs": [
    {
     "data": {
      "text/html": [
       "<div>\n",
       "<style scoped>\n",
       "    .dataframe tbody tr th:only-of-type {\n",
       "        vertical-align: middle;\n",
       "    }\n",
       "\n",
       "    .dataframe tbody tr th {\n",
       "        vertical-align: top;\n",
       "    }\n",
       "\n",
       "    .dataframe thead th {\n",
       "        text-align: right;\n",
       "    }\n",
       "</style>\n",
       "<table border=\"1\" class=\"dataframe\">\n",
       "  <thead>\n",
       "    <tr style=\"text-align: right;\">\n",
       "      <th></th>\n",
       "      <th>count</th>\n",
       "      <th>mean</th>\n",
       "      <th>std</th>\n",
       "      <th>min</th>\n",
       "      <th>25%</th>\n",
       "      <th>50%</th>\n",
       "      <th>75%</th>\n",
       "      <th>max</th>\n",
       "    </tr>\n",
       "    <tr>\n",
       "      <th>fall</th>\n",
       "      <th></th>\n",
       "      <th></th>\n",
       "      <th></th>\n",
       "      <th></th>\n",
       "      <th></th>\n",
       "      <th></th>\n",
       "      <th></th>\n",
       "      <th></th>\n",
       "    </tr>\n",
       "  </thead>\n",
       "  <tbody>\n",
       "    <tr>\n",
       "      <th>Fell</th>\n",
       "      <td>1075.0</td>\n",
       "      <td>47070.715023</td>\n",
       "      <td>717067.125826</td>\n",
       "      <td>0.1</td>\n",
       "      <td>686.00</td>\n",
       "      <td>2800.0</td>\n",
       "      <td>10450.0</td>\n",
       "      <td>23000000.0</td>\n",
       "    </tr>\n",
       "    <tr>\n",
       "      <th>Found</th>\n",
       "      <td>44510.0</td>\n",
       "      <td>12461.922983</td>\n",
       "      <td>571105.752311</td>\n",
       "      <td>0.0</td>\n",
       "      <td>6.94</td>\n",
       "      <td>30.5</td>\n",
       "      <td>178.0</td>\n",
       "      <td>60000000.0</td>\n",
       "    </tr>\n",
       "  </tbody>\n",
       "</table>\n",
       "</div>"
      ],
      "text/plain": [
       "         count          mean            std  min     25%     50%      75%  \\\n",
       "fall                                                                        \n",
       "Fell    1075.0  47070.715023  717067.125826  0.1  686.00  2800.0  10450.0   \n",
       "Found  44510.0  12461.922983  571105.752311  0.0    6.94    30.5    178.0   \n",
       "\n",
       "              max  \n",
       "fall               \n",
       "Fell   23000000.0  \n",
       "Found  60000000.0  "
      ]
     },
     "execution_count": 85,
     "metadata": {},
     "output_type": "execute_result"
    }
   ],
   "source": [
    "meteorites = pd.read_csv('../data/Meteorite_Landings.csv')\n",
    "meteorites.groupby('fall')['mass (g)'].describe()"
   ]
  },
  {
   "cell_type": "markdown",
   "id": "9fb76130-c968-4d24-bf11-3337f846a621",
   "metadata": {},
   "source": [
    "#### Exercise 2.5\n",
    "##### Using the taxi trip data in the `2019_Yellow_Taxi_Trip_Data.csv` file, resample the data to an hourly frequency based on the dropoff time. Calculate the total `trip_distance`, `fare_amount`, `tolls_amount`, and `tip_amount`, then find the 5 hours with the most tips."
   ]
  },
  {
   "cell_type": "code",
   "execution_count": 95,
   "id": "1f5423f5-c685-4bb2-ac01-8d334d26f341",
   "metadata": {},
   "outputs": [
    {
     "data": {
      "text/html": [
       "<div>\n",
       "<style scoped>\n",
       "    .dataframe tbody tr th:only-of-type {\n",
       "        vertical-align: middle;\n",
       "    }\n",
       "\n",
       "    .dataframe tbody tr th {\n",
       "        vertical-align: top;\n",
       "    }\n",
       "\n",
       "    .dataframe thead th {\n",
       "        text-align: right;\n",
       "    }\n",
       "</style>\n",
       "<table border=\"1\" class=\"dataframe\">\n",
       "  <thead>\n",
       "    <tr style=\"text-align: right;\">\n",
       "      <th></th>\n",
       "      <th>trip_distance</th>\n",
       "      <th>fare_amount</th>\n",
       "      <th>tolls_amount</th>\n",
       "      <th>tip_amount</th>\n",
       "    </tr>\n",
       "    <tr>\n",
       "      <th>tpep_dropoff_datetime</th>\n",
       "      <th></th>\n",
       "      <th></th>\n",
       "      <th></th>\n",
       "      <th></th>\n",
       "    </tr>\n",
       "  </thead>\n",
       "  <tbody>\n",
       "    <tr>\n",
       "      <th>2019-10-23 16:00:00</th>\n",
       "      <td>10676.95</td>\n",
       "      <td>67797.76</td>\n",
       "      <td>699.04</td>\n",
       "      <td>12228.64</td>\n",
       "    </tr>\n",
       "    <tr>\n",
       "      <th>2019-10-23 17:00:00</th>\n",
       "      <td>16052.83</td>\n",
       "      <td>70131.91</td>\n",
       "      <td>4044.04</td>\n",
       "      <td>12044.03</td>\n",
       "    </tr>\n",
       "    <tr>\n",
       "      <th>2019-10-23 18:00:00</th>\n",
       "      <td>3104.56</td>\n",
       "      <td>11565.56</td>\n",
       "      <td>1454.67</td>\n",
       "      <td>1907.64</td>\n",
       "    </tr>\n",
       "    <tr>\n",
       "      <th>2019-10-23 15:00:00</th>\n",
       "      <td>14.34</td>\n",
       "      <td>213.50</td>\n",
       "      <td>0.00</td>\n",
       "      <td>51.75</td>\n",
       "    </tr>\n",
       "    <tr>\n",
       "      <th>2019-10-23 19:00:00</th>\n",
       "      <td>98.59</td>\n",
       "      <td>268.00</td>\n",
       "      <td>24.48</td>\n",
       "      <td>25.74</td>\n",
       "    </tr>\n",
       "  </tbody>\n",
       "</table>\n",
       "</div>"
      ],
      "text/plain": [
       "                       trip_distance  fare_amount  tolls_amount  tip_amount\n",
       "tpep_dropoff_datetime                                                      \n",
       "2019-10-23 16:00:00         10676.95     67797.76        699.04    12228.64\n",
       "2019-10-23 17:00:00         16052.83     70131.91       4044.04    12044.03\n",
       "2019-10-23 18:00:00          3104.56     11565.56       1454.67     1907.64\n",
       "2019-10-23 15:00:00            14.34       213.50          0.00       51.75\n",
       "2019-10-23 19:00:00            98.59       268.00         24.48       25.74"
      ]
     },
     "execution_count": 95,
     "metadata": {},
     "output_type": "execute_result"
    }
   ],
   "source": [
    "taxi_data = pd.read_csv('../data/2019_Yellow_Taxi_Trip_Data.csv', parse_dates=True, index_col='tpep_dropoff_datetime')\n",
    "# taxi_data = taxi_data.set_index('tpep_dropoff_datetime').sort_index()\n",
    "taxi_data.resample('1h')[['trip_distance', 'fare_amount', 'tolls_amount', 'tip_amount']].sum().nlargest(5, 'tip_amount')"
   ]
  },
  {
   "cell_type": "markdown",
   "id": "b878c7da-bd82-4e95-9302-e68d67b56f31",
   "metadata": {},
   "source": [
    "--- \n",
    "\n",
    "### Section 3\n",
    "\n",
    "#### Exercise 3.1\n",
    "##### Using the TSA traveler throughput data in the `tsa_melted_holiday_travel.csv` file, create box plots for traveler throughput for each year in the data. Hint: Pass `kind='box'` into the `plot()` method to generate box plots."
   ]
  },
  {
   "cell_type": "code",
   "execution_count": 98,
   "id": "0d275b26-c701-4c32-b480-8a4b0119f830",
   "metadata": {},
   "outputs": [
    {
     "data": {
      "image/png": "[encoded data removed]",
      "text/plain": [
       "<Figure size 640x480 with 1 Axes>"
      ]
     },
     "metadata": {},
     "output_type": "display_data"
    }
   ],
   "source": [
    "from matplotlib import ticker\n",
    "tsa_melted_holiday_travel = pd.read_csv(\n",
    "    '../data/tsa_melted_holiday_travel.csv',\n",
    "    parse_dates=True, index_col='date'\n",
    ")\n",
    "pivot_data = tsa_melted_holiday_travel.pivot(columns='year', values='travelers')\n",
    "ax = pivot_data.plot(kind='box')\n",
    "ax.set(xlabel='year', ylabel='travellers', title='TSA Traveller Throughput')\n",
    "ax.yaxis.set_major_formatter(ticker.EngFormatter())"
   ]
  },
  {
   "cell_type": "markdown",
   "id": "6bdaffc7-b865-41cd-bd6a-fb02576ce814",
   "metadata": {},
   "source": [
    "#### Exercise 3.2\n",
    "##### Using the TSA traveler throughput data in the `tsa_melted_holiday_travel.csv` file, create a heatmap that shows the 2019 TSA median traveler throughput by day of week and month."
   ]
  },
  {
   "cell_type": "code",
   "execution_count": 102,
   "id": "9afe6aa8-9078-4dd8-98bb-7f68976f97a5",
   "metadata": {},
   "outputs": [
    {
     "data": {
      "text/plain": [
       "Text(0.5, 1.0, '2019 TSA median traveler throughput (millions)')"
      ]
     },
     "execution_count": 102,
     "metadata": {},
     "output_type": "execute_result"
    },
    {
     "data": {
      "image/png": "[encoded data removed]",
      "text/plain": [
       "<Figure size 640x480 with 2 Axes>"
      ]
     },
     "metadata": {},
     "output_type": "display_data"
    }
   ],
   "source": [
    "import calendar\n",
    "import seaborn as sns\n",
    "travel_data = pd.read_csv('../data/tsa_melted_holiday_travel.csv', parse_dates=True, index_col='date')\n",
    "plot_data = travel_data.loc['2019'].assign(\n",
    "    day_of_week=lambda x: x.index.dayofweek, month=lambda x: x.index.month\n",
    ").pivot_table(\n",
    "    index='day_of_week', columns='month', values='travelers', aggfunc='median'\n",
    ")\n",
    "ax = sns.heatmap(data=plot_data / 1e6, annot=True, fmt='.1f', cmap='Blues')\n",
    "ax.set_xticklabels(calendar.month_abbr[1:])\n",
    "ax.set_yticklabels(calendar.day_abbr)\n",
    "ax.set_title('2019 TSA median traveler throughput (millions)')"
   ]
  },
  {
   "cell_type": "markdown",
   "id": "81436a29-c7ca-40a3-b1c5-7a1947709bd3",
   "metadata": {},
   "source": [
    "#### Exercise 3.3\n",
    "##### Annotate the medians in the box plot from *[Exercise 3.1](#Exercise-3.1)*. Hint: The `x` coordinates will be 1, 2, and 3 for 2019, 2020, and 2021, respectively. Alternatively, to avoid hardcoding values, you can use the `Axes.get_xticklabels()` method, in which case you should look at the [documentation](https://matplotlib.org/stable/api/text_api.html) for the `Text` class."
   ]
  },
  {
   "cell_type": "code",
   "execution_count": 120,
   "id": "b0d32c60-fd9f-4b35-a6ec-de1489951e16",
   "metadata": {},
   "outputs": [
    {
     "data": {
      "image/png": "[encoded data removed]",
      "text/plain": [
       "<Figure size 640x480 with 1 Axes>"
      ]
     },
     "metadata": {},
     "output_type": "display_data"
    }
   ],
   "source": [
    "tsa_melted_holiday_travel = pd.read_csv(\n",
    "    '../data/tsa_melted_holiday_travel.csv',\n",
    "    parse_dates=True, index_col='date'\n",
    ")\n",
    "pivot_data = tsa_melted_holiday_travel.pivot(columns='year', values='travelers')\n",
    "ax = pivot_data.plot(kind='box')\n",
    "ax.set(xlabel='year', ylabel='travellers', title='TSA Traveller Throughput')\n",
    "ax.yaxis.set_major_formatter(ticker.EngFormatter())\n",
    "median = pivot_data.median()\n",
    "for tick_label in ax.get_xticklabels():\n",
    "    m = median[int(tick_label.get_text())]\n",
    "    ax.annotate(\n",
    "        str(round(m / 1000000, 1))+' M',\n",
    "        xy=(tick_label.get_position()[0], m),\n",
    "        ha='center', va='bottom'\n",
    "    )"
   ]
  },
  {
   "cell_type": "code",
   "execution_count": null,
   "id": "5562556f-2420-42f2-8adf-7b752ed3450a",
   "metadata": {},
   "outputs": [],
   "source": []
  },
  {
   "cell_type": "code",
   "execution_count": null,
   "id": "4071287b-ed46-4f33-b61c-6330816a4c94",
   "metadata": {},
   "outputs": [],
   "source": []
  }
 ],
 "metadata": {
  "kernelspec": {
   "display_name": "Python 3 (ipykernel)",
   "language": "python",
   "name": "python3"
  },
  "language_info": {
   "codemirror_mode": {
    "name": "ipython",
    "version": 3
   },
   "file_extension": ".py",
   "mimetype": "text/x-python",
   "name": "python",
   "nbconvert_exporter": "python",
   "pygments_lexer": "ipython3",
   "version": "3.12.7"
  }
 },
 "nbformat": 4,
 "nbformat_minor": 5
}
