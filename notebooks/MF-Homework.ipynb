{
 "cells": [
  {
   "cell_type": "markdown",
   "metadata": {},
   "source": [
    "# Matrix Factorization\n",
    "\n",
    "In this task you are supposed to (manually) implement the matrix factorization variant you learned in the Data Cleaning chapter using the `numpy` library."
   ]
  },
  {
   "cell_type": "code",
   "execution_count": 38,
   "metadata": {},
   "outputs": [],
   "source": [
    "import numpy as np"
   ]
  },
  {
   "cell_type": "markdown",
   "metadata": {},
   "source": [
    "We continue the scenario from the tutorials.\n",
    "\n",
    "Assume that you have a ginormous database $D$ of three users and three movies and ratings provided by some users to some movies, which we represent as a matrix, where the entry $D_{ij}$ represents the rating user $i$ gave to movie $j$.\n",
    "Since not all users have rated movies, and the rating ranges from 1 to 5, we encode missing ratings as 0."
   ]
  },
  {
   "cell_type": "code",
   "execution_count": 39,
   "metadata": {},
   "outputs": [],
   "source": [
    "# missing values encoded as 0\n",
    "D = [\n",
    "     [3,1,0],\n",
    "     [1,0,3],\n",
    "     [0,3,5],\n",
    "    ]\n",
    "D = np.array(D)\n",
    "\n",
    "N = len(D)\n",
    "M = len(D[0])"
   ]
  },
  {
   "cell_type": "markdown",
   "metadata": {},
   "source": [
    "First, randomly initialize the two factors $E$ and $A$ for $f=2$ latent features. For evaluating the correctness of your results from the tutorial, you may *additionally* provide hard-coded inital factors as they have been provided in the tutorial."
   ]
  },
  {
   "cell_type": "code",
   "execution_count": 40,
   "metadata": {},
   "outputs": [],
   "source": [
    "# number of latent features\n",
    "f = 2\n",
    "\n",
    "# TODO your code goes here\n",
    "E = np.random.random((N, f))\n",
    "A = np.random.random((f, M))"
   ]
  },
  {
   "cell_type": "markdown",
   "metadata": {},
   "source": [
    "Implement a function that takes the data matrix $D$, the inital factors $E, A$, the number of epochs (iterations), the learning rate $\\eta$, and performs the factorization of $D$. Use a default number of 5000 for the epochs and 0.001 for $\\eta$.\n",
    "\n",
    "Updates to $E$ and $A$ are applied immediately. $\\tilde{D}$ is updated after an entry from D was completely dealt with. Update ordered by latent features and E before A."
   ]
  },
  {
   "cell_type": "code",
   "execution_count": 41,
   "metadata": {},
   "outputs": [],
   "source": [
    "# TODO your code goes here\n",
    "def matrix_factorization(D, E, A, epochs = 5000, eta = 0.001):\n",
    "    N = len(D)\n",
    "    M = len(D[0])\n",
    "    f = len(A)\n",
    "    for _ in range(epochs):\n",
    "        for k in range(f):\n",
    "            for n in range(N):\n",
    "                for m in range(M):\n",
    "                    if D[n][m] == 0:\n",
    "                        continue\n",
    "                    E[n][k] = E[n][k] + eta * 2* (D[n][m] - sum(E[n]*A[:,m])) * A[k,m]\n",
    "                    A[k][m] = A[k][m] + eta * 2* (D[n][m] - sum(E[n]*A[:,m])) * E[n,k]\n",
    "    for i in range(N):\n",
    "        for j in range(M):\n",
    "            if D[i][j] == 0:\n",
    "                D[i][j] = sum(E[i] * A[:,j])\n",
    "    return D"
   ]
  },
  {
   "cell_type": "markdown",
   "metadata": {},
   "source": [
    "Now test your matrix factorization for the parameters specified above."
   ]
  },
  {
   "cell_type": "code",
   "execution_count": 42,
   "metadata": {},
   "outputs": [
    {
     "name": "stdout",
     "output_type": "stream",
     "text": [
      "[[3 1 4]\n",
      " [1 2 3]\n",
      " [2 3 5]]\n"
     ]
    }
   ],
   "source": [
    "# TODO your code goes here\n",
    "print(matrix_factorization(D, E, A))"
   ]
  },
  {
   "cell_type": "code",
   "execution_count": null,
   "metadata": {},
   "outputs": [],
   "source": []
  }
 ],
 "metadata": {
  "kernelspec": {
   "display_name": "Python 3 (ipykernel)",
   "language": "python",
   "name": "python3"
  },
  "language_info": {
   "codemirror_mode": {
    "name": "ipython",
    "version": 3
   },
   "file_extension": ".py",
   "mimetype": "text/x-python",
   "name": "python",
   "nbconvert_exporter": "python",
   "pygments_lexer": "ipython3",
   "version": "3.12.7"
  },
  "vscode": {
   "interpreter": {
    "hash": "ad2bdc8ecc057115af97d19610ffacc2b4e99fae6737bb82f5d7fb13d2f2c186"
   }
  }
 },
 "nbformat": 4,
 "nbformat_minor": 4
}
